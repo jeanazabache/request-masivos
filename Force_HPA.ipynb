{
  "cells": [
    {
      "cell_type": "code",
      "execution_count": null,
      "metadata": {
        "id": "a5YH4TtVcWDd"
      },
      "outputs": [],
      "source": [
        "import concurrent.futures\n",
        "import requests\n",
        "\n",
        "total_requests = 3000\n",
        "\n",
        "def make_request(request_number):\n",
        "    try:\n",
        "        response = requests.post(\n",
        "            \"https://hpa-123213.azurewebsites.net/\",\n",
        "            json={\n",
        "                \"prueba\": \"1\"\n",
        "            }\n",
        "        )\n",
        "        print(f\"Solicitud {request_number} - Código de Estado: {response.status_code}\")\n",
        "\n",
        "        # Verificar el código de estado para considerar la solicitud exitosa\n",
        "        if response.status_code == 200:\n",
        "            return \"Éxito\"\n",
        "        else:\n",
        "            return f\"Fallo - Código de Estado: {response.status_code}\"\n",
        "    except requests.exceptions.RequestException as e:\n",
        "        print(f\"Error en la solicitud {request_number}: {e}\")\n",
        "        return \"Fallo\"\n",
        "\n",
        "def main():\n",
        "    successful_count = 0\n",
        "    failed_count = 0\n",
        "\n",
        "    with concurrent.futures.ThreadPoolExecutor() as executor:\n",
        "        futures = {executor.submit(make_request, i): i for i in range(total_requests)}\n",
        "        for future in concurrent.futures.as_completed(futures):\n",
        "            result = future.result()\n",
        "            if result == \"Éxito\":\n",
        "                successful_count += 1\n",
        "            elif result == \"Fallo\":\n",
        "                failed_count += 1\n",
        "\n",
        "    print(f\"Solicitudes exitosas: {successful_count}\")\n",
        "    print(f\"Solicitudes con errores: {failed_count}\")\n",
        "\n",
        "main()"
      ]
    },
    {
      "cell_type": "code",
      "execution_count": null,
      "metadata": {
        "id": "oFOM971tgX2U"
      },
      "outputs": [],
      "source": []
    },
    {
      "cell_type": "code",
      "execution_count": null,
      "metadata": {
        "colab": {
          "background_save": true
        },
        "id": "rNrwThsFhaTO"
      },
      "outputs": [],
      "source": [
        "import asyncio\n",
        "import aiohttp\n",
        "\n",
        "total_requests = 30000\n",
        "url = \"https://brihanbocanegra.com/\"\n",
        "payload = {\"prueba\": \"1\"}\n",
        "\n",
        "async def make_request(session, request_number):\n",
        "    try:\n",
        "        async with session.post(url, json=payload) as response:\n",
        "            print(f\"Solicitud {request_number} - Código de Estado: {response.status}\")\n",
        "            return await response.text()\n",
        "    except aiohttp.ClientError as e:\n",
        "        print(f\"Error en la solicitud {request_number}: {e}\")\n",
        "        return \"Fallo\"\n",
        "\n",
        "async def main():\n",
        "    async with aiohttp.ClientSession() as session:\n",
        "        tasks = [make_request(session, i) for i in range(total_requests)]\n",
        "        responses = await asyncio.gather(*tasks)\n",
        "        successful_count = responses.count(\"Éxito\")\n",
        "        failed_count = responses.count(\"Fallo\")\n",
        "        print(f\"Solicitudes exitosas: {successful_count}\")\n",
        "        print(f\"Solicitudes con errores: {failed_count}\")\n",
        "\n",
        "await main()\n"
      ]
    }
  ],
  "metadata": {
    "colab": {
      "provenance": [],
      "authorship_tag": "ABX9TyOiMRrtDvYUli2jS7ms58R4"
    },
    "kernelspec": {
      "display_name": "Python 3",
      "name": "python3"
    },
    "language_info": {
      "name": "python"
    }
  },
  "nbformat": 4,
  "nbformat_minor": 0
}